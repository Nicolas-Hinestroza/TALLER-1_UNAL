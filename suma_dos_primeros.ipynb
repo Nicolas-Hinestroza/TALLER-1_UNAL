{
 "cells": [
  {
   "cell_type": "code",
   "execution_count": 9,
   "metadata": {},
   "outputs": [
    {
     "name": "stdout",
     "output_type": "stream",
     "text": [
      "146 + 8 = 154\n",
      "154 es mayor que 6\n"
     ]
    }
   ],
   "source": [
    "a = int(input(\"Ingrese un numero real: \"))\n",
    "b = int(input(\"Ingrese un numero real: \"))\n",
    "c = int(input(\"Ingrese un numero real: \")) \n",
    "d = 0\n",
    "d = a + b\n",
    "print (str(a) + \" + \" + str(b) +  \" = \" + str(d))\n",
    "if d == c:\n",
    "    print (\"Por lo tanto \" + str(d) + \" es igual que \" + str(c))\n",
    "elif d > c:\n",
    "    print (\"Por lo tanto \" + str(d) + \" es mayor que \" + str(c))\n",
    "else:\n",
    "    print (\"Por lo tanto \" + str(d) + \" es menor que \" + str(c))"
   ]
  }
 ],
 "metadata": {
  "kernelspec": {
   "display_name": "Python 3",
   "language": "python",
   "name": "python3"
  },
  "language_info": {
   "codemirror_mode": {
    "name": "ipython",
    "version": 3
   },
   "file_extension": ".py",
   "mimetype": "text/x-python",
   "name": "python",
   "nbconvert_exporter": "python",
   "pygments_lexer": "ipython3",
   "version": "3.11.2"
  },
  "orig_nbformat": 4
 },
 "nbformat": 4,
 "nbformat_minor": 2
}
